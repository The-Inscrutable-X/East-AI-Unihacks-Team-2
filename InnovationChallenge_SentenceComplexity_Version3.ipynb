{
 "cells": [
  {
   "cell_type": "markdown",
   "metadata": {},
   "source": [
    "## End-to-End Pipeline for Machine Learning: Regression"
   ]
  },
  {
   "cell_type": "code",
   "execution_count": 1,
   "metadata": {},
   "outputs": [
    {
     "name": "stderr",
     "output_type": "stream",
     "text": [
      "[nltk_data] Downloading package punkt to\n",
      "[nltk_data]     C:\\Users\\audre\\AppData\\Roaming\\nltk_data...\n",
      "[nltk_data]   Package punkt is already up-to-date!\n",
      "[nltk_data] Downloading package stopwords to\n",
      "[nltk_data]     C:\\Users\\audre\\AppData\\Roaming\\nltk_data...\n",
      "[nltk_data]   Package stopwords is already up-to-date!\n"
     ]
    }
   ],
   "source": [
    "# foundational modules\n",
    "import numpy as np\n",
    "import pandas as pd\n",
    "\n",
    "# visualization\n",
    "import matplotlib.pyplot as plt \n",
    "import matplotlib.figure as fig \n",
    "from matplotlib import pyplot\n",
    "import seaborn as sns\n",
    "sns.set(style=\"darkgrid\")\n",
    "\n",
    "import nltk\n",
    "nltk.download('punkt')\n",
    "from nltk.tokenize import sent_tokenize, word_tokenize\n",
    "\n",
    "# English Stopwords\n",
    "from nltk.corpus import stopwords\n",
    "nltk.download(\"stopwords\")\n",
    "\n",
    "# German Stopwords\n",
    "from nltk.corpus import stopwords\n",
    "from sklearn.feature_extraction.text import CountVectorizer\n",
    "\n",
    "import string\n",
    "\n",
    "import scipy.stats as stats\n",
    "import sklearn\n",
    "import statsmodels.api as sm\n",
    "\n",
    "# data preparation for model learning\n",
    "from sklearn.model_selection import train_test_split\n",
    "\n",
    "# model building\n",
    "from sklearn.linear_model import LinearRegression\n",
    "from sklearn.linear_model import Lasso\n",
    "from sklearn.linear_model import ElasticNet\n",
    "from sklearn.tree import DecisionTreeRegressor\n",
    "from sklearn.neighbors import KNeighborsRegressor\n",
    "from sklearn.svm import SVR\n",
    "from sklearn.ensemble import AdaBoostRegressor\n",
    "from sklearn.ensemble import GradientBoostingRegressor\n",
    "from sklearn.ensemble import RandomForestRegressor\n",
    "\n",
    "#Model Assessment\n",
    "from sklearn.model_selection import KFold\n",
    "from sklearn.model_selection import cross_val_score\n",
    "from sklearn.metrics import mean_squared_error\n",
    "\n",
    "def _syllables(word):\n",
    "    syllable_count = 0\n",
    "    vowels = 'aeiouy'\n",
    "    if word[0] in vowels:\n",
    "        syllable_count += 1\n",
    "    for index in range(1, len(word)):\n",
    "        if word[index] in vowels and word[index - 1] not in vowels:\n",
    "            syllable_count += 1\n",
    "    if word.endswith('e'):\n",
    "        syllable_count -= 1\n",
    "    if word.endswith('le') and len(word) > 2 and word[-3] not in vowels:\n",
    "        syllable_count += 1\n",
    "    if syllable_count == 0:\n",
    "        syllable_count += 1\n",
    "    return syllable_count"
   ]
  },
  {
   "cell_type": "markdown",
   "metadata": {},
   "source": [
    "### Step-1: Load and Examine the Data Set"
   ]
  },
  {
   "cell_type": "code",
   "execution_count": 2,
   "metadata": {},
   "outputs": [
    {
     "data": {
      "text/html": [
       "<div>\n",
       "<style scoped>\n",
       "    .dataframe tbody tr th:only-of-type {\n",
       "        vertical-align: middle;\n",
       "    }\n",
       "\n",
       "    .dataframe tbody tr th {\n",
       "        vertical-align: top;\n",
       "    }\n",
       "\n",
       "    .dataframe thead th {\n",
       "        text-align: right;\n",
       "    }\n",
       "</style>\n",
       "<table border=\"1\" class=\"dataframe\">\n",
       "  <thead>\n",
       "    <tr style=\"text-align: right;\">\n",
       "      <th></th>\n",
       "      <th>word_count</th>\n",
       "      <th>char_count</th>\n",
       "      <th>sly_count</th>\n",
       "      <th>level</th>\n",
       "    </tr>\n",
       "  </thead>\n",
       "  <tbody>\n",
       "    <tr>\n",
       "      <th>0</th>\n",
       "      <td>64</td>\n",
       "      <td>567</td>\n",
       "      <td>182</td>\n",
       "      <td>3</td>\n",
       "    </tr>\n",
       "    <tr>\n",
       "      <th>1</th>\n",
       "      <td>11</td>\n",
       "      <td>85</td>\n",
       "      <td>27</td>\n",
       "      <td>2</td>\n",
       "    </tr>\n",
       "    <tr>\n",
       "      <th>2</th>\n",
       "      <td>9</td>\n",
       "      <td>63</td>\n",
       "      <td>22</td>\n",
       "      <td>2</td>\n",
       "    </tr>\n",
       "    <tr>\n",
       "      <th>3</th>\n",
       "      <td>5</td>\n",
       "      <td>44</td>\n",
       "      <td>16</td>\n",
       "      <td>3</td>\n",
       "    </tr>\n",
       "    <tr>\n",
       "      <th>4</th>\n",
       "      <td>12</td>\n",
       "      <td>94</td>\n",
       "      <td>32</td>\n",
       "      <td>2</td>\n",
       "    </tr>\n",
       "  </tbody>\n",
       "</table>\n",
       "</div>"
      ],
      "text/plain": [
       "   word_count  char_count  sly_count  level\n",
       "0          64         567        182      3\n",
       "1          11          85         27      2\n",
       "2           9          63         22      2\n",
       "3           5          44         16      3\n",
       "4          12          94         32      2"
      ]
     },
     "execution_count": 2,
     "metadata": {},
     "output_type": "execute_result"
    }
   ],
   "source": [
    "df = pd.read_csv(\"data_to_train.csv\")\n",
    "df.head()"
   ]
  },
  {
   "cell_type": "code",
   "execution_count": 3,
   "metadata": {},
   "outputs": [
    {
     "name": "stderr",
     "output_type": "stream",
     "text": [
      "<ipython-input-3-33bbebfb79b8>:17: SettingWithCopyWarning: \n",
      "A value is trying to be set on a copy of a slice from a DataFrame\n",
      "\n",
      "See the caveats in the documentation: https://pandas.pydata.org/pandas-docs/stable/user_guide/indexing.html#returning-a-view-versus-a-copy\n",
      "  df['complexity_index'][i] = 1-df['updated_score'][i]/updated_score_range\n"
     ]
    },
    {
     "data": {
      "text/html": [
       "<div>\n",
       "<style scoped>\n",
       "    .dataframe tbody tr th:only-of-type {\n",
       "        vertical-align: middle;\n",
       "    }\n",
       "\n",
       "    .dataframe tbody tr th {\n",
       "        vertical-align: top;\n",
       "    }\n",
       "\n",
       "    .dataframe thead th {\n",
       "        text-align: right;\n",
       "    }\n",
       "</style>\n",
       "<table border=\"1\" class=\"dataframe\">\n",
       "  <thead>\n",
       "    <tr style=\"text-align: right;\">\n",
       "      <th></th>\n",
       "      <th>word_count</th>\n",
       "      <th>char_count</th>\n",
       "      <th>sly_count</th>\n",
       "      <th>level</th>\n",
       "    </tr>\n",
       "  </thead>\n",
       "  <tbody>\n",
       "    <tr>\n",
       "      <th>0</th>\n",
       "      <td>64</td>\n",
       "      <td>567</td>\n",
       "      <td>182</td>\n",
       "      <td>0.784946</td>\n",
       "    </tr>\n",
       "    <tr>\n",
       "      <th>1</th>\n",
       "      <td>11</td>\n",
       "      <td>85</td>\n",
       "      <td>27</td>\n",
       "      <td>0.473118</td>\n",
       "    </tr>\n",
       "    <tr>\n",
       "      <th>2</th>\n",
       "      <td>9</td>\n",
       "      <td>63</td>\n",
       "      <td>22</td>\n",
       "      <td>0.465950</td>\n",
       "    </tr>\n",
       "    <tr>\n",
       "      <th>3</th>\n",
       "      <td>5</td>\n",
       "      <td>44</td>\n",
       "      <td>16</td>\n",
       "      <td>0.677419</td>\n",
       "    </tr>\n",
       "    <tr>\n",
       "      <th>4</th>\n",
       "      <td>12</td>\n",
       "      <td>94</td>\n",
       "      <td>32</td>\n",
       "      <td>0.541219</td>\n",
       "    </tr>\n",
       "  </tbody>\n",
       "</table>\n",
       "</div>"
      ],
      "text/plain": [
       "   word_count  char_count  sly_count     level\n",
       "0          64         567        182  0.784946\n",
       "1          11          85         27  0.473118\n",
       "2           9          63         22  0.465950\n",
       "3           5          44         16  0.677419\n",
       "4          12          94         32  0.541219"
      ]
     },
     "execution_count": 3,
     "metadata": {},
     "output_type": "execute_result"
    }
   ],
   "source": [
    "df['score'] = 0\n",
    "for i in range(df.shape[0]):\n",
    "    if df['word_count'][i] > 0:\n",
    "        df['score'][i] = 206.835 - 1.015*(df['word_count'][i])-84.6*(df['sly_count'][i]/df['word_count'][i])    \n",
    "    if df['word_count'][i] <= 0:\n",
    "        df['score'][i] = 1000000    \n",
    "min_score = min(df['score'])\n",
    "df['updated_score'] = 0\n",
    "for i in range(df.shape[0]):\n",
    "    if min_score >= 0:\n",
    "        df['updated_score'][i] = df['score'][i]    \n",
    "    if min_score < 0:\n",
    "        df['updated_score'][i] = abs(min_score) + df['score'][i]    \n",
    "updated_score_range = max(df['updated_score']) - min(df['updated_score']) \n",
    "df['complexity_index'] = 0.00\n",
    "for i in range(df.shape[0]):\n",
    "    df['complexity_index'][i] = 1-df['updated_score'][i]/updated_score_range\n",
    "df.drop(['level', 'score', 'updated_score'], axis=1, inplace=True)\n",
    "df.rename(columns = {'complexity_index':'level'}, inplace = True)\n",
    "df.head()"
   ]
  },
  {
   "cell_type": "code",
   "execution_count": 4,
   "metadata": {},
   "outputs": [
    {
     "data": {
      "text/plain": [
       "(2300, 4)"
      ]
     },
     "execution_count": 4,
     "metadata": {},
     "output_type": "execute_result"
    }
   ],
   "source": [
    "df.shape"
   ]
  },
  {
   "cell_type": "code",
   "execution_count": 5,
   "metadata": {},
   "outputs": [
    {
     "data": {
      "text/html": [
       "<div>\n",
       "<style scoped>\n",
       "    .dataframe tbody tr th:only-of-type {\n",
       "        vertical-align: middle;\n",
       "    }\n",
       "\n",
       "    .dataframe tbody tr th {\n",
       "        vertical-align: top;\n",
       "    }\n",
       "\n",
       "    .dataframe thead th {\n",
       "        text-align: right;\n",
       "    }\n",
       "</style>\n",
       "<table border=\"1\" class=\"dataframe\">\n",
       "  <thead>\n",
       "    <tr style=\"text-align: right;\">\n",
       "      <th></th>\n",
       "      <th>word_count</th>\n",
       "      <th>char_count</th>\n",
       "      <th>sly_count</th>\n",
       "      <th>level</th>\n",
       "    </tr>\n",
       "  </thead>\n",
       "  <tbody>\n",
       "    <tr>\n",
       "      <th>count</th>\n",
       "      <td>2300.000000</td>\n",
       "      <td>2300.000000</td>\n",
       "      <td>2300.000000</td>\n",
       "      <td>2300.000000</td>\n",
       "    </tr>\n",
       "    <tr>\n",
       "      <th>mean</th>\n",
       "      <td>9.480435</td>\n",
       "      <td>63.553478</td>\n",
       "      <td>19.816087</td>\n",
       "      <td>0.310982</td>\n",
       "    </tr>\n",
       "    <tr>\n",
       "      <th>std</th>\n",
       "      <td>7.672735</td>\n",
       "      <td>58.289368</td>\n",
       "      <td>18.045918</td>\n",
       "      <td>0.178271</td>\n",
       "    </tr>\n",
       "    <tr>\n",
       "      <th>min</th>\n",
       "      <td>1.000000</td>\n",
       "      <td>1.000000</td>\n",
       "      <td>1.000000</td>\n",
       "      <td>0.000000</td>\n",
       "    </tr>\n",
       "    <tr>\n",
       "      <th>25%</th>\n",
       "      <td>3.750000</td>\n",
       "      <td>20.000000</td>\n",
       "      <td>6.000000</td>\n",
       "      <td>0.197133</td>\n",
       "    </tr>\n",
       "    <tr>\n",
       "      <th>50%</th>\n",
       "      <td>8.000000</td>\n",
       "      <td>54.000000</td>\n",
       "      <td>17.000000</td>\n",
       "      <td>0.326165</td>\n",
       "    </tr>\n",
       "    <tr>\n",
       "      <th>75%</th>\n",
       "      <td>14.000000</td>\n",
       "      <td>94.000000</td>\n",
       "      <td>29.000000</td>\n",
       "      <td>0.433692</td>\n",
       "    </tr>\n",
       "    <tr>\n",
       "      <th>max</th>\n",
       "      <td>126.000000</td>\n",
       "      <td>1198.000000</td>\n",
       "      <td>353.000000</td>\n",
       "      <td>1.000000</td>\n",
       "    </tr>\n",
       "  </tbody>\n",
       "</table>\n",
       "</div>"
      ],
      "text/plain": [
       "        word_count   char_count    sly_count        level\n",
       "count  2300.000000  2300.000000  2300.000000  2300.000000\n",
       "mean      9.480435    63.553478    19.816087     0.310982\n",
       "std       7.672735    58.289368    18.045918     0.178271\n",
       "min       1.000000     1.000000     1.000000     0.000000\n",
       "25%       3.750000    20.000000     6.000000     0.197133\n",
       "50%       8.000000    54.000000    17.000000     0.326165\n",
       "75%      14.000000    94.000000    29.000000     0.433692\n",
       "max     126.000000  1198.000000   353.000000     1.000000"
      ]
     },
     "execution_count": 5,
     "metadata": {},
     "output_type": "execute_result"
    }
   ],
   "source": [
    "df.describe()"
   ]
  },
  {
   "cell_type": "markdown",
   "metadata": {},
   "source": [
    "### Step-2: Split Data into Train, Validation, and Test Data Sets"
   ]
  },
  {
   "cell_type": "code",
   "execution_count": 6,
   "metadata": {},
   "outputs": [],
   "source": [
    "X = pd.DataFrame(np.c_[df['word_count'],df['char_count'],df['sly_count']], columns = ['word_count','char_count','sly_count'])\n",
    "y = df['level']"
   ]
  },
  {
   "cell_type": "code",
   "execution_count": 7,
   "metadata": {},
   "outputs": [
    {
     "name": "stdout",
     "output_type": "stream",
     "text": [
      "(2300, 3)\n",
      "(2300,)\n"
     ]
    }
   ],
   "source": [
    "print(X.shape)\n",
    "print(y.shape)"
   ]
  },
  {
   "cell_type": "code",
   "execution_count": 8,
   "metadata": {},
   "outputs": [
    {
     "name": "stdout",
     "output_type": "stream",
     "text": [
      "Training (X_train and y_train): \t (1380, 3)  \t (1380,)\n",
      "Validation (X_val and y_val): \t (460, 3)  \t (460,)\n",
      "Testing (X_test and y_test): \t\t (460, 3)   \t (460,)\n"
     ]
    }
   ],
   "source": [
    "X_train, X_test, y_train, y_test = train_test_split(X, y, test_size = 0.2, random_state=0)\n",
    "X_train, X_val, y_train, y_val = train_test_split(X_train, y_train, test_size = 0.25, random_state=0)\n",
    "print (\"Training (X_train and y_train): \\t\", X_train.shape, \" \\t\", y_train.shape)\n",
    "print (\"Validation (X_val and y_val): \\t\", X_val.shape, \" \\t\", y_val.shape)\n",
    "print (\"Testing (X_test and y_test): \\t\\t\", X_test.shape, \"  \\t\", y_test.shape)"
   ]
  },
  {
   "cell_type": "markdown",
   "metadata": {},
   "source": [
    "### Step-3: Define the Parameters for Single Model Regression and Fit the Model"
   ]
  },
  {
   "cell_type": "code",
   "execution_count": 9,
   "metadata": {},
   "outputs": [
    {
     "data": {
      "text/plain": [
       "LinearRegression()"
      ]
     },
     "execution_count": 9,
     "metadata": {},
     "output_type": "execute_result"
    }
   ],
   "source": [
    "#Fitting Linear Regression Model\n",
    "LR = LinearRegression()\n",
    "LR.fit(X_train, y_train)"
   ]
  },
  {
   "cell_type": "code",
   "execution_count": 10,
   "metadata": {},
   "outputs": [
    {
     "data": {
      "text/plain": [
       "KNeighborsRegressor()"
      ]
     },
     "execution_count": 10,
     "metadata": {},
     "output_type": "execute_result"
    }
   ],
   "source": [
    "#Fitting KNeighbors Regression Model\n",
    "KNN = KNeighborsRegressor()\n",
    "KNN.fit(X_train, y_train)"
   ]
  },
  {
   "cell_type": "code",
   "execution_count": 11,
   "metadata": {},
   "outputs": [
    {
     "data": {
      "text/plain": [
       "DecisionTreeRegressor()"
      ]
     },
     "execution_count": 11,
     "metadata": {},
     "output_type": "execute_result"
    }
   ],
   "source": [
    "#Fitting Decision Tree Regression Model\n",
    "DT = DecisionTreeRegressor()\n",
    "DT.fit(X_train, y_train)"
   ]
  },
  {
   "cell_type": "code",
   "execution_count": 12,
   "metadata": {},
   "outputs": [
    {
     "data": {
      "text/plain": [
       "SVR(gamma='auto')"
      ]
     },
     "execution_count": 12,
     "metadata": {},
     "output_type": "execute_result"
    }
   ],
   "source": [
    "#Fitting Support Vector Regression (SVR) Model\n",
    "SVR = SVR(gamma='auto')\n",
    "SVR.fit(X_train, y_train)"
   ]
  },
  {
   "cell_type": "code",
   "execution_count": 13,
   "metadata": {},
   "outputs": [
    {
     "data": {
      "text/plain": [
       "AdaBoostRegressor()"
      ]
     },
     "execution_count": 13,
     "metadata": {},
     "output_type": "execute_result"
    }
   ],
   "source": [
    "#Fitting AdaBoost Regression Model\n",
    "AdaBoost = AdaBoostRegressor()\n",
    "AdaBoost.fit(X_train, y_train)"
   ]
  },
  {
   "cell_type": "code",
   "execution_count": 14,
   "metadata": {},
   "outputs": [
    {
     "data": {
      "text/plain": [
       "GradientBoostingRegressor()"
      ]
     },
     "execution_count": 14,
     "metadata": {},
     "output_type": "execute_result"
    }
   ],
   "source": [
    "#Fitting Gradient Boosting Regression Model\n",
    "GradientBoost = GradientBoostingRegressor()\n",
    "GradientBoost.fit(X_train, y_train)"
   ]
  },
  {
   "cell_type": "code",
   "execution_count": 15,
   "metadata": {},
   "outputs": [
    {
     "data": {
      "text/plain": [
       "RandomForestRegressor()"
      ]
     },
     "execution_count": 15,
     "metadata": {},
     "output_type": "execute_result"
    }
   ],
   "source": [
    "#Fitting Random Forest Regression Model\n",
    "RandomForest = RandomForestRegressor()\n",
    "RandomForest.fit(X_train, y_train)"
   ]
  },
  {
   "cell_type": "markdown",
   "metadata": {},
   "source": [
    "### Step-4: Report Performance Metrics for the Training, Validation and Test Data"
   ]
  },
  {
   "cell_type": "code",
   "execution_count": 16,
   "metadata": {},
   "outputs": [
    {
     "name": "stdout",
     "output_type": "stream",
     "text": [
      "Linear Regression Performance:\n",
      "\tTRAIN Accuracy: 0.61\n",
      "\tVALIDATION Accuracy: 0.41\n",
      "\tTEST Accuracy: -0.24\n"
     ]
    }
   ],
   "source": [
    "print(\"Linear Regression Performance:\")\n",
    "print (\"\\tTRAIN Accuracy: {:.2f}\".format(LR.score(X_train, y_train)))\n",
    "print (\"\\tVALIDATION Accuracy: {:.2f}\".format(LR.score(X_val, y_val)))\n",
    "print (\"\\tTEST Accuracy: {:.2f}\".format(LR.score(X_test, y_test)))"
   ]
  },
  {
   "cell_type": "code",
   "execution_count": 17,
   "metadata": {},
   "outputs": [
    {
     "name": "stdout",
     "output_type": "stream",
     "text": [
      "KNN Regression Performance:\n",
      "\tTRAIN Accuracy: 0.93\n",
      "\tVALIDATION Accuracy: 0.92\n",
      "\tTEST Accuracy: 0.87\n"
     ]
    }
   ],
   "source": [
    "print(\"KNN Regression Performance:\")\n",
    "print (\"\\tTRAIN Accuracy: {:.2f}\".format(KNN.score(X_train, y_train)))\n",
    "print (\"\\tVALIDATION Accuracy: {:.2f}\".format(KNN.score(X_val, y_val)))\n",
    "print (\"\\tTEST Accuracy: {:.2f}\".format(KNN.score(X_test, y_test)))"
   ]
  },
  {
   "cell_type": "code",
   "execution_count": 18,
   "metadata": {},
   "outputs": [
    {
     "name": "stdout",
     "output_type": "stream",
     "text": [
      "Decision Tree Regression Performance:\n",
      "\tTRAIN Accuracy: 1.00\n",
      "\tVALIDATION Accuracy: 0.99\n",
      "\tTEST Accuracy: 0.97\n"
     ]
    }
   ],
   "source": [
    "print(\"Decision Tree Regression Performance:\")\n",
    "print (\"\\tTRAIN Accuracy: {:.2f}\".format(DT.score(X_train, y_train)))\n",
    "print (\"\\tVALIDATION Accuracy: {:.2f}\".format(DT.score(X_val, y_val)))\n",
    "print (\"\\tTEST Accuracy: {:.2f}\".format(DT.score(X_test, y_test)))"
   ]
  },
  {
   "cell_type": "code",
   "execution_count": 19,
   "metadata": {},
   "outputs": [
    {
     "name": "stdout",
     "output_type": "stream",
     "text": [
      "Support Vector Regression Performance:\n",
      "\tTRAIN Accuracy: 0.82\n",
      "\tVALIDATION Accuracy: 0.72\n",
      "\tTEST Accuracy: 0.75\n"
     ]
    }
   ],
   "source": [
    "print(\"Support Vector Regression Performance:\")\n",
    "print (\"\\tTRAIN Accuracy: {:.2f}\".format(SVR.score(X_train, y_train)))\n",
    "print (\"\\tVALIDATION Accuracy: {:.2f}\".format(SVR.score(X_val, y_val)))\n",
    "print (\"\\tTEST Accuracy: {:.2f}\".format(SVR.score(X_test, y_test)))"
   ]
  },
  {
   "cell_type": "code",
   "execution_count": 20,
   "metadata": {},
   "outputs": [
    {
     "name": "stdout",
     "output_type": "stream",
     "text": [
      "AdaBoost Regression Performance:\n",
      "\tTRAIN Accuracy: 0.74\n",
      "\tVALIDATION Accuracy: 0.72\n",
      "\tTEST Accuracy: 0.73\n"
     ]
    }
   ],
   "source": [
    "print(\"AdaBoost Regression Performance:\")\n",
    "print (\"\\tTRAIN Accuracy: {:.2f}\".format(AdaBoost.score(X_train, y_train)))\n",
    "print (\"\\tVALIDATION Accuracy: {:.2f}\".format(AdaBoost.score(X_val, y_val)))\n",
    "print (\"\\tTEST Accuracy: {:.2f}\".format(AdaBoost.score(X_test, y_test)))"
   ]
  },
  {
   "cell_type": "code",
   "execution_count": 21,
   "metadata": {},
   "outputs": [
    {
     "name": "stdout",
     "output_type": "stream",
     "text": [
      "Gradient Boost Regression Performance:\n",
      "\tTRAIN Accuracy: 0.98\n",
      "\tVALIDATION Accuracy: 0.97\n",
      "\tTEST Accuracy: 0.95\n"
     ]
    }
   ],
   "source": [
    "print(\"Gradient Boost Regression Performance:\")\n",
    "print (\"\\tTRAIN Accuracy: {:.2f}\".format(GradientBoost.score(X_train, y_train)))\n",
    "print (\"\\tVALIDATION Accuracy: {:.2f}\".format(GradientBoost.score(X_val, y_val)))\n",
    "print (\"\\tTEST Accuracy: {:.2f}\".format(GradientBoost.score(X_test, y_test)))"
   ]
  },
  {
   "cell_type": "code",
   "execution_count": 22,
   "metadata": {},
   "outputs": [
    {
     "name": "stdout",
     "output_type": "stream",
     "text": [
      "Random Forest Performance:\n",
      "\tTRAIN Accuracy: 1.00\n",
      "\tVALIDATION Accuracy: 0.99\n",
      "\tTEST Accuracy: 0.97\n"
     ]
    }
   ],
   "source": [
    "print(\"Random Forest Performance:\")\n",
    "print (\"\\tTRAIN Accuracy: {:.2f}\".format(RandomForest.score(X_train, y_train)))\n",
    "print (\"\\tVALIDATION Accuracy: {:.2f}\".format(RandomForest.score(X_val, y_val)))\n",
    "print (\"\\tTEST Accuracy: {:.2f}\".format(RandomForest.score(X_test, y_test)))"
   ]
  },
  {
   "cell_type": "markdown",
   "metadata": {},
   "source": [
    "### Select the Best Model"
   ]
  },
  {
   "cell_type": "code",
   "execution_count": 23,
   "metadata": {},
   "outputs": [
    {
     "name": "stdout",
     "output_type": "stream",
     "text": [
      "[INFO] MSE : 0.0\n",
      "[INFO] MSE : 0.001\n"
     ]
    }
   ],
   "source": [
    "predictionsValidate = DT.predict(X_val)\n",
    "print(\"[INFO] MSE : {}\".format(round(mean_squared_error(y_val, predictionsValidate), 3)))\n",
    "predictionsTest = DT.predict(X_test)\n",
    "print(\"[INFO] MSE : {}\".format(round(mean_squared_error(y_test, predictionsTest), 3)))"
   ]
  },
  {
   "cell_type": "code",
   "execution_count": 24,
   "metadata": {},
   "outputs": [
    {
     "data": {
      "image/png": "[encoded data removed]",
      "text/plain": [
       "<Figure size 432x288 with 1 Axes>"
      ]
     },
     "metadata": {},
     "output_type": "display_data"
    }
   ],
   "source": [
    "plt.scatter(predictionsValidate, y_val, alpha=0.5,color='chocolate')\n",
    "plt.xlabel('Predictions from Decision Tree Regression Fit')\n",
    "plt.ylabel('Predictions in the Validation Dataset')\n",
    "plt.show()"
   ]
  },
  {
   "cell_type": "code",
   "execution_count": 25,
   "metadata": {},
   "outputs": [
    {
     "data": {
      "image/png": "[encoded data removed]",
      "text/plain": [
       "<Figure size 432x288 with 1 Axes>"
      ]
     },
     "metadata": {},
     "output_type": "display_data"
    }
   ],
   "source": [
    "plt.scatter(predictionsTest, y_test, alpha=0.5,color='chocolate')\n",
    "plt.xlabel('Predictions from Decision Tree Regression Fit')\n",
    "plt.ylabel('Predictions in the Test Dataset')\n",
    "plt.show()"
   ]
  },
  {
   "cell_type": "code",
   "execution_count": 26,
   "metadata": {},
   "outputs": [
    {
     "name": "stdout",
     "output_type": "stream",
     "text": [
      "[INFO] MSE : 0.001\n",
      "[INFO] MSE : 0.002\n"
     ]
    }
   ],
   "source": [
    "predictionsValidate = GradientBoost.predict(X_val)\n",
    "print(\"[INFO] MSE : {}\".format(round(mean_squared_error(y_val, predictionsValidate), 3)))\n",
    "predictionsTest = GradientBoost.predict(X_test)\n",
    "print(\"[INFO] MSE : {}\".format(round(mean_squared_error(y_test, predictionsTest), 3)))"
   ]
  },
  {
   "cell_type": "code",
   "execution_count": 27,
   "metadata": {},
   "outputs": [
    {
     "data": {
      "image/png": "[encoded data removed]",
      "text/plain": [
       "<Figure size 432x288 with 1 Axes>"
      ]
     },
     "metadata": {},
     "output_type": "display_data"
    }
   ],
   "source": [
    "plt.scatter(predictionsValidate, y_val, alpha=0.5,color='chocolate')\n",
    "plt.xlabel('Predictions from Gradient Boost Fit')\n",
    "plt.ylabel('Predictions in the Validation Dataset')\n",
    "plt.show()"
   ]
  },
  {
   "cell_type": "code",
   "execution_count": 28,
   "metadata": {},
   "outputs": [
    {
     "data": {
      "image/png": "[encoded data removed]",
      "text/plain": [
       "<Figure size 432x288 with 1 Axes>"
      ]
     },
     "metadata": {},
     "output_type": "display_data"
    }
   ],
   "source": [
    "plt.scatter(predictionsTest, y_test, alpha=0.5,color='chocolate')\n",
    "plt.xlabel('Predictions from Gradient Boost Fit')\n",
    "plt.ylabel('Predictions in the Test Dataset')\n",
    "plt.show()"
   ]
  },
  {
   "cell_type": "code",
   "execution_count": 29,
   "metadata": {},
   "outputs": [
    {
     "name": "stdout",
     "output_type": "stream",
     "text": [
      "[INFO] MSE : 0.0\n",
      "[INFO] MSE : 0.001\n"
     ]
    }
   ],
   "source": [
    "predictionsValidate = RandomForest.predict(X_val)\n",
    "print(\"[INFO] MSE : {}\".format(round(mean_squared_error(y_val, predictionsValidate), 3)))\n",
    "predictionsTest = RandomForest.predict(X_test)\n",
    "print(\"[INFO] MSE : {}\".format(round(mean_squared_error(y_test, predictionsTest), 3)))"
   ]
  },
  {
   "cell_type": "code",
   "execution_count": 30,
   "metadata": {},
   "outputs": [
    {
     "data": {
      "image/png": "[encoded data removed]",
      "text/plain": [
       "<Figure size 432x288 with 1 Axes>"
      ]
     },
     "metadata": {},
     "output_type": "display_data"
    }
   ],
   "source": [
    "plt.scatter(predictionsValidate, y_val, alpha=0.5,color='chocolate')\n",
    "plt.xlabel('Predictions from Random Forest Fit')\n",
    "plt.ylabel('Predictions in the Validation Dataset')\n",
    "plt.show()"
   ]
  },
  {
   "cell_type": "code",
   "execution_count": 31,
   "metadata": {},
   "outputs": [
    {
     "data": {
      "image/png": "[encoded data removed]",
      "text/plain": [
       "<Figure size 432x288 with 1 Axes>"
      ]
     },
     "metadata": {},
     "output_type": "display_data"
    }
   ],
   "source": [
    "plt.scatter(predictionsTest, y_test, alpha=0.5,color='chocolate')\n",
    "plt.xlabel('Predictions from Random Forest Fit')\n",
    "plt.ylabel('Predictions in the Test Dataset')\n",
    "plt.show()"
   ]
  },
  {
   "cell_type": "markdown",
   "metadata": {},
   "source": [
    "### Step-6: Predict the Level of Complexity of a Given Sentence"
   ]
  },
  {
   "cell_type": "code",
   "execution_count": 32,
   "metadata": {},
   "outputs": [],
   "source": [
    "user = \"\"\"I love running.\"\"\"\n",
    "user_string = user.translate(str.maketrans('', '', string.punctuation))\n",
    "sent_tokenize(user_string)\n",
    "user_words = word_tokenize(user_string)\n",
    "user_list = [word for word in user_words if not word in stopwords.words()]\n",
    "user_word_count = len(user_list)\n",
    "user_char_count = 0\n",
    "for word in user_list:\n",
    "    user_char_count = user_char_count + len(word)\n",
    "user_sly_count = 0\n",
    "for word in user_list:\n",
    "    user_sly_count = user_sly_count + _syllables(word)\n",
    "user_data = [[user_word_count, user_char_count,user_sly_count]]\n",
    "X = pd.DataFrame(user_data, columns = ['word_count', 'char_count', 'sly_count'])"
   ]
  },
  {
   "cell_type": "code",
   "execution_count": 33,
   "metadata": {},
   "outputs": [
    {
     "data": {
      "text/plain": [
       "0.14653715501225156"
      ]
     },
     "execution_count": 33,
     "metadata": {},
     "output_type": "execute_result"
    }
   ],
   "source": [
    "MyPrediction = GradientBoost.predict(X)\n",
    "MyPrediction[0]"
   ]
  },
  {
   "cell_type": "markdown",
   "metadata": {},
   "source": [
    "### Step-7: Predict the Level of Complexity of a Given German Sentence"
   ]
  },
  {
   "cell_type": "code",
   "execution_count": 34,
   "metadata": {},
   "outputs": [],
   "source": [
    "german_stop_words = stopwords.words('german')"
   ]
  },
  {
   "cell_type": "code",
   "execution_count": 35,
   "metadata": {},
   "outputs": [],
   "source": [
    "# Enter the words known by the user\n",
    "known_words = pd.read_csv(\"words_known_by_user.csv\")\n",
    "known_words_list = known_words['user_known'].to_list()"
   ]
  },
  {
   "cell_type": "code",
   "execution_count": 36,
   "metadata": {},
   "outputs": [],
   "source": [
    "user = \"\"\"\"Nein, der alte Mann kommt nicht nach Hause.\"\"\"\n",
    "user_string = user.translate(str.maketrans('', '', string.punctuation))\n",
    "sent_tokenize(user_string)\n",
    "user_words = word_tokenize(user_string)\n",
    "user_list = [word for word in user_words if not word in german_stop_words]\n",
    "user_unknown_list = [word for word in user_list if not word in known_words_list]\n",
    "user_word_count = len(user_unknown_list)\n",
    "user_char_count = 0\n",
    "for word in user_unknown_list:\n",
    "    user_char_count = user_char_count + len(word)\n",
    "user_sly_count = 0\n",
    "for word in user_unknown_list:\n",
    "    user_sly_count = user_sly_count + _syllables(word)\n",
    "user_data = [[user_word_count, user_char_count,user_sly_count]]\n",
    "X = pd.DataFrame(user_data, columns = ['word_count', 'char_count', 'sly_count'])"
   ]
  },
  {
   "cell_type": "code",
   "execution_count": 37,
   "metadata": {},
   "outputs": [
    {
     "data": {
      "text/plain": [
       "0.08097068247072206"
      ]
     },
     "execution_count": 37,
     "metadata": {},
     "output_type": "execute_result"
    }
   ],
   "source": [
    "MyPrediction = GradientBoost.predict(X)\n",
    "MyPrediction[0]"
   ]
  },
  {
   "cell_type": "code",
   "execution_count": 38,
   "metadata": {},
   "outputs": [
    {
     "name": "stdout",
     "output_type": "stream",
     "text": [
      "['Baum', 'Verstehen', 'Uberrascht', 'Aufgeben', 'Lehrbuch', 'Schon', 'Verruckt', 'Kasserolle', 'Schildkrote', 'Umgebung', 'Wissenschaft', 'Geschichte', 'Mathematik', 'Brille', 'Hausschuhe', 'Vergeben', 'Zeitplan', 'Verschwommen', 'Schwimmer', 'Ruderer', 'Nein', 'alte', 'Mann', 'kommt', 'Hause']\n"
     ]
    }
   ],
   "source": [
    "#Add the user_unknown_list to the words known by the user\n",
    "known_words_list.extend(user_unknown_list)\n",
    "print(known_words_list)"
   ]
  },
  {
   "cell_type": "code",
   "execution_count": null,
   "metadata": {},
   "outputs": [],
   "source": []
  }
 ],
 "metadata": {
  "kernelspec": {
   "display_name": "Python 3",
   "language": "python",
   "name": "python3"
  },
  "language_info": {
   "codemirror_mode": {
    "name": "ipython",
    "version": 3
   },
   "file_extension": ".py",
   "mimetype": "text/x-python",
   "name": "python",
   "nbconvert_exporter": "python",
   "pygments_lexer": "ipython3",
   "version": "3.8.5"
  }
 },
 "nbformat": 4,
 "nbformat_minor": 2
}
