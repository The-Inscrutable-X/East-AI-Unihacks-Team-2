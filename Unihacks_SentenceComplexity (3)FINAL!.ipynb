{
 "cells": [
  {
   "cell_type": "markdown",
   "metadata": {},
   "source": [
    "## End-to-End Pipeline for Machine Learning: Classification"
   ]
  },
  {
   "cell_type": "code",
   "execution_count": 1,
   "metadata": {},
   "outputs": [
    {
     "name": "stderr",
     "output_type": "stream",
     "text": [
      "[nltk_data] Downloading package punkt to\n",
      "[nltk_data]     C:\\Users\\audre\\AppData\\Roaming\\nltk_data...\n",
      "[nltk_data]   Package punkt is already up-to-date!\n",
      "[nltk_data] Downloading package stopwords to\n",
      "[nltk_data]     C:\\Users\\audre\\AppData\\Roaming\\nltk_data...\n",
      "[nltk_data]   Package stopwords is already up-to-date!\n"
     ]
    }
   ],
   "source": [
    "# foundational modules\n",
    "import numpy as np\n",
    "import pandas as pd\n",
    "\n",
    "# visualization\n",
    "import matplotlib.pyplot as plt \n",
    "import matplotlib.figure as fig \n",
    "import seaborn as sns\n",
    "sns.set(style=\"darkgrid\")\n",
    "\n",
    "import nltk\n",
    "nltk.download('punkt')\n",
    "from nltk.tokenize import sent_tokenize, word_tokenize\n",
    "\n",
    "from nltk.corpus import stopwords\n",
    "nltk.download(\"stopwords\")\n",
    "\n",
    "import string\n",
    "\n",
    "# data preparation for model learning\n",
    "from sklearn.model_selection import train_test_split\n",
    "\n",
    "# model building\n",
    "from sklearn.linear_model import LogisticRegression\n",
    "\n",
    "# model building\n",
    "from sklearn.neighbors import KNeighborsClassifier\n",
    "from sklearn.tree import DecisionTreeClassifier\n",
    "from sklearn.linear_model import LogisticRegression\n",
    "from sklearn.svm import SVC\n",
    "from sklearn.naive_bayes import GaussianNB\n",
    "\n",
    "### classification metrics\n",
    "from sklearn.metrics import classification_report\n",
    "\n",
    "def _syllables(word):\n",
    "    syllable_count = 0\n",
    "    vowels = 'aeiouy'\n",
    "    if word[0] in vowels:\n",
    "        syllable_count += 1\n",
    "    for index in range(1, len(word)):\n",
    "        if word[index] in vowels and word[index - 1] not in vowels:\n",
    "            syllable_count += 1\n",
    "    if word.endswith('e'):\n",
    "        syllable_count -= 1\n",
    "    if word.endswith('le') and len(word) > 2 and word[-3] not in vowels:\n",
    "        syllable_count += 1\n",
    "    if syllable_count == 0:\n",
    "        syllable_count += 1\n",
    "    return syllable_count"
   ]
  },
  {
   "cell_type": "markdown",
   "metadata": {},
   "source": [
    "### Step-1: Load and Examine the Data Set"
   ]
  },
  {
   "cell_type": "code",
   "execution_count": 2,
   "metadata": {},
   "outputs": [
    {
     "data": {
      "text/html": [
       "<div>\n",
       "<style scoped>\n",
       "    .dataframe tbody tr th:only-of-type {\n",
       "        vertical-align: middle;\n",
       "    }\n",
       "\n",
       "    .dataframe tbody tr th {\n",
       "        vertical-align: top;\n",
       "    }\n",
       "\n",
       "    .dataframe thead th {\n",
       "        text-align: right;\n",
       "    }\n",
       "</style>\n",
       "<table border=\"1\" class=\"dataframe\">\n",
       "  <thead>\n",
       "    <tr style=\"text-align: right;\">\n",
       "      <th></th>\n",
       "      <th>word_count</th>\n",
       "      <th>char_count</th>\n",
       "      <th>sly_count</th>\n",
       "      <th>level</th>\n",
       "    </tr>\n",
       "  </thead>\n",
       "  <tbody>\n",
       "    <tr>\n",
       "      <th>0</th>\n",
       "      <td>64</td>\n",
       "      <td>567</td>\n",
       "      <td>182</td>\n",
       "      <td>3</td>\n",
       "    </tr>\n",
       "    <tr>\n",
       "      <th>1</th>\n",
       "      <td>11</td>\n",
       "      <td>85</td>\n",
       "      <td>27</td>\n",
       "      <td>2</td>\n",
       "    </tr>\n",
       "    <tr>\n",
       "      <th>2</th>\n",
       "      <td>9</td>\n",
       "      <td>63</td>\n",
       "      <td>22</td>\n",
       "      <td>2</td>\n",
       "    </tr>\n",
       "    <tr>\n",
       "      <th>3</th>\n",
       "      <td>5</td>\n",
       "      <td>44</td>\n",
       "      <td>16</td>\n",
       "      <td>3</td>\n",
       "    </tr>\n",
       "    <tr>\n",
       "      <th>4</th>\n",
       "      <td>12</td>\n",
       "      <td>94</td>\n",
       "      <td>32</td>\n",
       "      <td>2</td>\n",
       "    </tr>\n",
       "  </tbody>\n",
       "</table>\n",
       "</div>"
      ],
      "text/plain": [
       "   word_count  char_count  sly_count  level\n",
       "0          64         567        182      3\n",
       "1          11          85         27      2\n",
       "2           9          63         22      2\n",
       "3           5          44         16      3\n",
       "4          12          94         32      2"
      ]
     },
     "execution_count": 2,
     "metadata": {},
     "output_type": "execute_result"
    }
   ],
   "source": [
    "df = pd.read_csv(\"data_to_train.csv\")\n",
    "df.head()"
   ]
  },
  {
   "cell_type": "code",
   "execution_count": 3,
   "metadata": {},
   "outputs": [
    {
     "data": {
      "text/plain": [
       "(2300, 4)"
      ]
     },
     "execution_count": 3,
     "metadata": {},
     "output_type": "execute_result"
    }
   ],
   "source": [
    "df.shape"
   ]
  },
  {
   "cell_type": "code",
   "execution_count": 4,
   "metadata": {},
   "outputs": [
    {
     "data": {
      "text/html": [
       "<div>\n",
       "<style scoped>\n",
       "    .dataframe tbody tr th:only-of-type {\n",
       "        vertical-align: middle;\n",
       "    }\n",
       "\n",
       "    .dataframe tbody tr th {\n",
       "        vertical-align: top;\n",
       "    }\n",
       "\n",
       "    .dataframe thead th {\n",
       "        text-align: right;\n",
       "    }\n",
       "</style>\n",
       "<table border=\"1\" class=\"dataframe\">\n",
       "  <thead>\n",
       "    <tr style=\"text-align: right;\">\n",
       "      <th></th>\n",
       "      <th>word_count</th>\n",
       "      <th>char_count</th>\n",
       "      <th>sly_count</th>\n",
       "      <th>level</th>\n",
       "    </tr>\n",
       "  </thead>\n",
       "  <tbody>\n",
       "    <tr>\n",
       "      <th>count</th>\n",
       "      <td>2300.000000</td>\n",
       "      <td>2300.000000</td>\n",
       "      <td>2300.000000</td>\n",
       "      <td>2300.000000</td>\n",
       "    </tr>\n",
       "    <tr>\n",
       "      <th>mean</th>\n",
       "      <td>9.480435</td>\n",
       "      <td>63.553478</td>\n",
       "      <td>19.816087</td>\n",
       "      <td>1.503043</td>\n",
       "    </tr>\n",
       "    <tr>\n",
       "      <th>std</th>\n",
       "      <td>7.672735</td>\n",
       "      <td>58.289368</td>\n",
       "      <td>18.045918</td>\n",
       "      <td>0.540238</td>\n",
       "    </tr>\n",
       "    <tr>\n",
       "      <th>min</th>\n",
       "      <td>1.000000</td>\n",
       "      <td>1.000000</td>\n",
       "      <td>1.000000</td>\n",
       "      <td>1.000000</td>\n",
       "    </tr>\n",
       "    <tr>\n",
       "      <th>25%</th>\n",
       "      <td>3.750000</td>\n",
       "      <td>20.000000</td>\n",
       "      <td>6.000000</td>\n",
       "      <td>1.000000</td>\n",
       "    </tr>\n",
       "    <tr>\n",
       "      <th>50%</th>\n",
       "      <td>8.000000</td>\n",
       "      <td>54.000000</td>\n",
       "      <td>17.000000</td>\n",
       "      <td>1.000000</td>\n",
       "    </tr>\n",
       "    <tr>\n",
       "      <th>75%</th>\n",
       "      <td>14.000000</td>\n",
       "      <td>94.000000</td>\n",
       "      <td>29.000000</td>\n",
       "      <td>2.000000</td>\n",
       "    </tr>\n",
       "    <tr>\n",
       "      <th>max</th>\n",
       "      <td>126.000000</td>\n",
       "      <td>1198.000000</td>\n",
       "      <td>353.000000</td>\n",
       "      <td>3.000000</td>\n",
       "    </tr>\n",
       "  </tbody>\n",
       "</table>\n",
       "</div>"
      ],
      "text/plain": [
       "        word_count   char_count    sly_count        level\n",
       "count  2300.000000  2300.000000  2300.000000  2300.000000\n",
       "mean      9.480435    63.553478    19.816087     1.503043\n",
       "std       7.672735    58.289368    18.045918     0.540238\n",
       "min       1.000000     1.000000     1.000000     1.000000\n",
       "25%       3.750000    20.000000     6.000000     1.000000\n",
       "50%       8.000000    54.000000    17.000000     1.000000\n",
       "75%      14.000000    94.000000    29.000000     2.000000\n",
       "max     126.000000  1198.000000   353.000000     3.000000"
      ]
     },
     "execution_count": 4,
     "metadata": {},
     "output_type": "execute_result"
    }
   ],
   "source": [
    "df.describe()"
   ]
  },
  {
   "cell_type": "markdown",
   "metadata": {},
   "source": [
    "### Step-2: Split Data into Train, Validation, and Test Data Sets"
   ]
  },
  {
   "cell_type": "code",
   "execution_count": 5,
   "metadata": {},
   "outputs": [],
   "source": [
    "y = np.array ( df.level)\n",
    "X = np.array ( df.drop ( columns = ['level'] ) )\n",
    "\n",
    "def stratified_split(X, y, \n",
    "                     test_size=0.2, \n",
    "                     validate_size=0.2, \n",
    "                     random_state=0):\n",
    "\n",
    "    X_train, X_test, y_train, y_test = train_test_split(\n",
    "        X, y, stratify=y, test_size=test_size, random_state = random_state)\n",
    "\n",
    "    # need to calculate new split size. \n",
    "    # let's assume we had 100 samples and we don't do this\n",
    "    # then the split will be 20 + (20% of 80) + (80% of 80). \n",
    "    # But we want 20 + 20 + 60\n",
    "    new_validate_size = validate_size / (1 - test_size)\n",
    "    \n",
    "    X_train, X_val, y_train, y_val = train_test_split(\n",
    "        X_train, y_train, stratify=y_train, \n",
    "        test_size=new_validate_size, \n",
    "        random_state = random_state)\n",
    "\n",
    "    return X_train, X_test, X_val, y_train, y_test, y_val"
   ]
  },
  {
   "cell_type": "code",
   "execution_count": 6,
   "metadata": {},
   "outputs": [],
   "source": [
    "# Split data into training, validation, and testing data sets\n",
    "X_train, X_test, X_val, y_train, y_test, y_val = stratified_split (\n",
    "    X, y, random_state = 66)"
   ]
  },
  {
   "cell_type": "code",
   "execution_count": 7,
   "metadata": {},
   "outputs": [
    {
     "name": "stdout",
     "output_type": "stream",
     "text": [
      "Training (X_train and y_train): \t (1380, 3)  \t (1380,)\n",
      "Validation (X_val and y_val): \t\t (460, 3)  \t (460,)\n",
      "Testing (X_test and y_test): \t\t (460, 3)   \t (460,)\n"
     ]
    }
   ],
   "source": [
    "# Examine the split proportions \n",
    "\n",
    "print (\"Training (X_train and y_train): \\t\", X_train.shape, \" \\t\", y_train.shape)\n",
    "print (\"Validation (X_val and y_val): \\t\\t\", X_val.shape, \" \\t\", y_val.shape)\n",
    "print (\"Testing (X_test and y_test): \\t\\t\", X_test.shape, \"  \\t\", y_test.shape)"
   ]
  },
  {
   "cell_type": "markdown",
   "metadata": {},
   "source": [
    "### Step-3: Define the Parameters for Single Model Classifiers and Fit the Model"
   ]
  },
  {
   "cell_type": "code",
   "execution_count": 8,
   "metadata": {},
   "outputs": [
    {
     "data": {
      "text/plain": [
       "SVC(gamma='auto')"
      ]
     },
     "execution_count": 8,
     "metadata": {},
     "output_type": "execute_result"
    }
   ],
   "source": [
    "# Set-up and Build SVM classifier model\n",
    "svc = SVC(gamma='auto')\n",
    "svc.fit(X_train, y_train)"
   ]
  },
  {
   "cell_type": "code",
   "execution_count": 9,
   "metadata": {},
   "outputs": [
    {
     "data": {
      "text/plain": [
       "DecisionTreeClassifier()"
      ]
     },
     "execution_count": 9,
     "metadata": {},
     "output_type": "execute_result"
    }
   ],
   "source": [
    "# Set-up and Build Decision Tree classifier model\n",
    "dt = DecisionTreeClassifier()\n",
    "dt.fit(X_train, y_train)"
   ]
  },
  {
   "cell_type": "code",
   "execution_count": 10,
   "metadata": {},
   "outputs": [
    {
     "data": {
      "text/plain": [
       "LogisticRegression(solver='newton-cg')"
      ]
     },
     "execution_count": 10,
     "metadata": {},
     "output_type": "execute_result"
    }
   ],
   "source": [
    "# Set-up and Build Logistic Regression model\n",
    "lr = LogisticRegression(solver='newton-cg')\n",
    "lr.fit(X_train, y_train)"
   ]
  },
  {
   "cell_type": "code",
   "execution_count": 11,
   "metadata": {},
   "outputs": [
    {
     "data": {
      "text/plain": [
       "GaussianNB()"
      ]
     },
     "execution_count": 11,
     "metadata": {},
     "output_type": "execute_result"
    }
   ],
   "source": [
    "# Set-up and Build Gaussian NB model\n",
    "nb = GaussianNB()\n",
    "nb.fit(X_train, y_train)"
   ]
  },
  {
   "cell_type": "code",
   "execution_count": 12,
   "metadata": {},
   "outputs": [
    {
     "data": {
      "text/plain": [
       "KNeighborsClassifier()"
      ]
     },
     "execution_count": 12,
     "metadata": {},
     "output_type": "execute_result"
    }
   ],
   "source": [
    "# Set-up and Build k-Nearest Neighbor model\n",
    "knn = KNeighborsClassifier()\n",
    "knn.fit(X_train, y_train)"
   ]
  },
  {
   "cell_type": "markdown",
   "metadata": {},
   "source": [
    "### Step-4: Report Performance Metrics for the Training, Validation and Test Data"
   ]
  },
  {
   "cell_type": "code",
   "execution_count": 13,
   "metadata": {},
   "outputs": [
    {
     "name": "stdout",
     "output_type": "stream",
     "text": [
      "SVM Performance:\n",
      "\tTRAIN Accuracy: 0.99\n",
      "\tVALIDATION Accuracy: 0.93\n",
      "\tSupport Vectors: 54% out of all the training points\n",
      "\tTEST Accuracy: 0.93\n"
     ]
    }
   ],
   "source": [
    "# SVM model performance\n",
    "n_sv = np.sum(svc.n_support_)\n",
    "\n",
    "print(\"SVM Performance:\")\n",
    "print (\"\\tTRAIN Accuracy: {:.2f}\".format(svc.score(X_train, y_train)))\n",
    "print (\"\\tVALIDATION Accuracy: {:.2f}\".format(svc.score(X_val, y_val)))\n",
    "print (\"\\tSupport Vectors: {:.0f}% out of all the training points\".format(100 * n_sv / X_train.shape[0]))\n",
    "print (\"\\tTEST Accuracy: {:.2f}\".format(svc.score(X_test, y_test)))"
   ]
  },
  {
   "cell_type": "code",
   "execution_count": 116,
   "metadata": {},
   "outputs": [
    {
     "name": "stdout",
     "output_type": "stream",
     "text": [
      "Logistic Regression Performance:\n",
      "\tTRAIN Accuracy: 0.96\n",
      "\tVALIDATION Accuracy: 0.94\n",
      "\tTEST Accuracy: 0.96\n"
     ]
    }
   ],
   "source": [
    "# Logistic Regression model performance\n",
    "print(\"Logistic Regression Performance:\")\n",
    "print (\"\\tTRAIN Accuracy: {:.2f}\".format(lr.score(X_train, y_train)))\n",
    "print (\"\\tVALIDATION Accuracy: {:.2f}\".format(lr.score(X_val, y_val)))\n",
    "print (\"\\tTEST Accuracy: {:.2f}\".format(lr.score(X_test, y_test)))"
   ]
  },
  {
   "cell_type": "code",
   "execution_count": 117,
   "metadata": {},
   "outputs": [
    {
     "name": "stdout",
     "output_type": "stream",
     "text": [
      "Naive Bayes Performance:\n",
      "\tTRAIN Accuracy: 0.73\n",
      "\tVALIDATION Accuracy: 0.75\n",
      "\tTEST Accuracy: 0.74\n"
     ]
    }
   ],
   "source": [
    "# Naive Bayes Classifier model performance\n",
    "print(\"Naive Bayes Performance:\")\n",
    "print (\"\\tTRAIN Accuracy: {:.2f}\".format(nb.score(X_train, y_train)))\n",
    "print (\"\\tVALIDATION Accuracy: {:.2f}\".format(nb.score(X_val, y_val)))\n",
    "print (\"\\tTEST Accuracy: {:.2f}\".format(nb.score(X_test, y_test)))"
   ]
  },
  {
   "cell_type": "code",
   "execution_count": 118,
   "metadata": {},
   "outputs": [
    {
     "name": "stdout",
     "output_type": "stream",
     "text": [
      "KNN Performance:\n",
      "\tTRAIN Accuracy: 0.94\n",
      "\tVALIDATION Accuracy: 0.91\n",
      "\tTEST Accuracy: 0.92\n"
     ]
    }
   ],
   "source": [
    "# k-Nearest Neighbor Classifier model performance\n",
    "print(\"KNN Performance:\")\n",
    "print (\"\\tTRAIN Accuracy: {:.2f}\".format(knn.score(X_train, y_train)))\n",
    "print (\"\\tVALIDATION Accuracy: {:.2f}\".format(knn.score(X_val, y_val)))\n",
    "print (\"\\tTEST Accuracy: {:.2f}\".format(knn.score(X_test, y_test)))"
   ]
  },
  {
   "cell_type": "code",
   "execution_count": 119,
   "metadata": {},
   "outputs": [
    {
     "name": "stdout",
     "output_type": "stream",
     "text": [
      "Decision Tree Performance:\n",
      "\tTRAIN Accuracy: 1.00\n",
      "\tVALIDATION Accuracy: 0.99\n",
      "\tTEST Accuracy: 0.99\n"
     ]
    }
   ],
   "source": [
    "# Decision Tree model performance\n",
    "print(\"Decision Tree Performance:\")\n",
    "print (\"\\tTRAIN Accuracy: {:.2f}\".format(dt.score(X_train, y_train)))\n",
    "print (\"\\tVALIDATION Accuracy: {:.2f}\".format(dt.score(X_val, y_val)))\n",
    "print (\"\\tTEST Accuracy: {:.2f}\".format(dt.score(X_test, y_test)))"
   ]
  },
  {
   "cell_type": "markdown",
   "metadata": {},
   "source": [
    "### Step-5: Play with Different Parameters to Improve each Model"
   ]
  },
  {
   "cell_type": "code",
   "execution_count": 120,
   "metadata": {},
   "outputs": [
    {
     "data": {
      "text/plain": [
       "SVC(C=1.0, cache_size=200, class_weight=None, coef0=0.0,\n",
       "    decision_function_shape='ovr', degree=3, gamma='auto_deprecated',\n",
       "    kernel='linear', max_iter=-1, probability=False, random_state=None,\n",
       "    shrinking=True, tol=0.001, verbose=False)"
      ]
     },
     "execution_count": 120,
     "metadata": {},
     "output_type": "execute_result"
    }
   ],
   "source": [
    "# Linear SVM model\n",
    "svc = SVC(kernel=\"linear\")\n",
    "svc.fit(X_train, y_train)"
   ]
  },
  {
   "cell_type": "code",
   "execution_count": 121,
   "metadata": {},
   "outputs": [
    {
     "name": "stdout",
     "output_type": "stream",
     "text": [
      "Linear SVM Performance:\n",
      "\tTRAIN Accuracy: 0.97\n",
      "\tVALIDATION Accuracy: 0.97\n",
      "\tTEST Accuracy: 0.97\n"
     ]
    }
   ],
   "source": [
    "print(\"Linear SVM Performance:\")\n",
    "print (\"\\tTRAIN Accuracy: {:.2f}\".format(svc.score(X_train, y_train)))\n",
    "print (\"\\tVALIDATION Accuracy: {:.2f}\".format(svc.score(X_val, y_val)))\n",
    "print (\"\\tTEST Accuracy: {:.2f}\".format(svc.score(X_test, y_test)))"
   ]
  },
  {
   "cell_type": "code",
   "execution_count": 122,
   "metadata": {},
   "outputs": [
    {
     "name": "stdout",
     "output_type": "stream",
     "text": [
      "KNN Performance:\n",
      "\tTRAIN Accuracy: 0.96\n",
      "\tVALIDATION Accuracy: 0.93\n",
      "\tTEST Accuracy: 0.93\n"
     ]
    }
   ],
   "source": [
    "# k-NN Classifier with k=3 neighbors\n",
    "knn = KNeighborsClassifier(n_neighbors=3)\n",
    "knn.fit(X_train, y_train)\n",
    "print(\"KNN Performance:\")\n",
    "print (\"\\tTRAIN Accuracy: {:.2f}\".format(knn.score(X_train, y_train)))\n",
    "print (\"\\tVALIDATION Accuracy: {:.2f}\".format(knn.score(X_val, y_val)))\n",
    "print (\"\\tTEST Accuracy: {:.2f}\".format(knn.score(X_test, y_test)))"
   ]
  },
  {
   "cell_type": "code",
   "execution_count": 123,
   "metadata": {},
   "outputs": [
    {
     "data": {
      "text/html": [
       "<div>\n",
       "<style scoped>\n",
       "    .dataframe tbody tr th:only-of-type {\n",
       "        vertical-align: middle;\n",
       "    }\n",
       "\n",
       "    .dataframe tbody tr th {\n",
       "        vertical-align: top;\n",
       "    }\n",
       "\n",
       "    .dataframe thead th {\n",
       "        text-align: right;\n",
       "    }\n",
       "</style>\n",
       "<table border=\"1\" class=\"dataframe\">\n",
       "  <thead>\n",
       "    <tr style=\"text-align: right;\">\n",
       "      <th></th>\n",
       "      <th>Feature Names</th>\n",
       "      <th>Feature Importances</th>\n",
       "    </tr>\n",
       "  </thead>\n",
       "  <tbody>\n",
       "    <tr>\n",
       "      <td>0</td>\n",
       "      <td>word_count</td>\n",
       "      <td>0.346462</td>\n",
       "    </tr>\n",
       "    <tr>\n",
       "      <td>1</td>\n",
       "      <td>char_count</td>\n",
       "      <td>0.017251</td>\n",
       "    </tr>\n",
       "    <tr>\n",
       "      <td>2</td>\n",
       "      <td>sly_count</td>\n",
       "      <td>0.636288</td>\n",
       "    </tr>\n",
       "  </tbody>\n",
       "</table>\n",
       "</div>"
      ],
      "text/plain": [
       "  Feature Names  Feature Importances\n",
       "0    word_count             0.346462\n",
       "1    char_count             0.017251\n",
       "2     sly_count             0.636288"
      ]
     },
     "execution_count": 123,
     "metadata": {},
     "output_type": "execute_result"
    }
   ],
   "source": [
    "# Examine Feature Importance\n",
    "feature_names = df.drop ( columns = ['level']).columns\n",
    "fdf = pd.DataFrame(data = list(zip(feature_names, dt.feature_importances_)), \n",
    "                   columns = [\"Feature Names\", \"Feature Importances\"])\n",
    "fdf.head(3)"
   ]
  },
  {
   "cell_type": "code",
   "execution_count": 124,
   "metadata": {},
   "outputs": [
    {
     "data": {
      "image/png": "[encoded data removed]",
      "text/plain": [
       "<Figure size 432x288 with 1 Axes>"
      ]
     },
     "metadata": {},
     "output_type": "display_data"
    }
   ],
   "source": [
    "sns.barplot(y = \"Feature Names\", x=\"Feature Importances\", data = fdf,\n",
    "           color=\"salmon\", saturation=1.0)\n",
    "plt.show()"
   ]
  },
  {
   "cell_type": "markdown",
   "metadata": {},
   "source": [
    "### Select the Best Model"
   ]
  },
  {
   "cell_type": "code",
   "execution_count": 125,
   "metadata": {},
   "outputs": [
    {
     "name": "stdout",
     "output_type": "stream",
     "text": [
      "              precision    recall  f1-score   support\n",
      "\n",
      "           1       0.98      0.99      0.98       238\n",
      "           2       0.97      0.97      0.97       212\n",
      "           3       1.00      0.60      0.75        10\n",
      "\n",
      "    accuracy                           0.97       460\n",
      "   macro avg       0.98      0.85      0.90       460\n",
      "weighted avg       0.97      0.97      0.97       460\n",
      "\n"
     ]
    }
   ],
   "source": [
    "SVM_predictionsValidate = svc.predict(X_val)\n",
    "print (classification_report(y_val, SVM_predictionsValidate))"
   ]
  },
  {
   "cell_type": "code",
   "execution_count": 126,
   "metadata": {},
   "outputs": [
    {
     "name": "stdout",
     "output_type": "stream",
     "text": [
      "              precision    recall  f1-score   support\n",
      "\n",
      "           1       0.94      1.00      0.97       238\n",
      "           2       0.95      0.92      0.94       212\n",
      "           3       0.00      0.00      0.00        10\n",
      "\n",
      "    accuracy                           0.94       460\n",
      "   macro avg       0.63      0.64      0.64       460\n",
      "weighted avg       0.92      0.94      0.93       460\n",
      "\n"
     ]
    },
    {
     "name": "stderr",
     "output_type": "stream",
     "text": [
      "C:\\Users\\babill\\AppData\\Local\\Continuum\\anaconda3\\lib\\site-packages\\sklearn\\metrics\\classification.py:1437: UndefinedMetricWarning: Precision and F-score are ill-defined and being set to 0.0 in labels with no predicted samples.\n",
      "  'precision', 'predicted', average, warn_for)\n"
     ]
    }
   ],
   "source": [
    "LR_predictionsValidate = lr.predict(X_val)\n",
    "print (classification_report(y_val, LR_predictionsValidate))"
   ]
  },
  {
   "cell_type": "code",
   "execution_count": 127,
   "metadata": {},
   "outputs": [
    {
     "name": "stdout",
     "output_type": "stream",
     "text": [
      "              precision    recall  f1-score   support\n",
      "\n",
      "           1       0.74      0.87      0.80       238\n",
      "           2       0.79      0.65      0.71       212\n",
      "           3       0.14      0.10      0.12        10\n",
      "\n",
      "    accuracy                           0.75       460\n",
      "   macro avg       0.56      0.54      0.54       460\n",
      "weighted avg       0.75      0.75      0.74       460\n",
      "\n"
     ]
    }
   ],
   "source": [
    "NB_predictionsValidate = nb.predict(X_val)\n",
    "print (classification_report(y_val, NB_predictionsValidate))"
   ]
  },
  {
   "cell_type": "code",
   "execution_count": 128,
   "metadata": {},
   "outputs": [
    {
     "name": "stdout",
     "output_type": "stream",
     "text": [
      "              precision    recall  f1-score   support\n",
      "\n",
      "           1       0.94      0.94      0.94       238\n",
      "           2       0.91      0.94      0.93       212\n",
      "           3       1.00      0.40      0.57        10\n",
      "\n",
      "    accuracy                           0.93       460\n",
      "   macro avg       0.95      0.76      0.81       460\n",
      "weighted avg       0.93      0.93      0.93       460\n",
      "\n"
     ]
    }
   ],
   "source": [
    "KNN_predictionsValidate = knn.predict(X_val)\n",
    "print (classification_report(y_val, KNN_predictionsValidate))"
   ]
  },
  {
   "cell_type": "code",
   "execution_count": 129,
   "metadata": {},
   "outputs": [
    {
     "name": "stdout",
     "output_type": "stream",
     "text": [
      "              precision    recall  f1-score   support\n",
      "\n",
      "           1       1.00      1.00      1.00       238\n",
      "           2       0.98      1.00      0.99       212\n",
      "           3       1.00      0.60      0.75        10\n",
      "\n",
      "    accuracy                           0.99       460\n",
      "   macro avg       0.99      0.87      0.91       460\n",
      "weighted avg       0.99      0.99      0.99       460\n",
      "\n"
     ]
    }
   ],
   "source": [
    "DT_predictionsValidate = dt.predict(X_val)\n",
    "print (classification_report(y_val, DT_predictionsValidate))"
   ]
  },
  {
   "cell_type": "markdown",
   "metadata": {},
   "source": [
    "### Step-6: Predict the Level of Complexity of a Given Sentence"
   ]
  },
  {
   "cell_type": "code",
   "execution_count": 130,
   "metadata": {},
   "outputs": [],
   "source": [
    "user = \"\"\"I love running.\"\"\"\n",
    "user_string = user.translate(str.maketrans('', '', string.punctuation))\n",
    "sent_tokenize(user_string)\n",
    "user_words = word_tokenize(user_string)\n",
    "user_list = [word for word in user_words if not word in stopwords.words()]\n",
    "user_word_count = len(user_list)\n",
    "user_char_count = 0\n",
    "for word in user_list:\n",
    "    user_char_count = user_char_count + len(word)\n",
    "user_sly_count = 0\n",
    "for word in user_list:\n",
    "    user_sly_count = user_sly_count + _syllables(word)\n",
    "user_data = [[user_word_count, user_char_count,user_sly_count]]\n",
    "X = pd.DataFrame(user_data, columns = ['word_count', 'char_count', 'sly_count'])"
   ]
  },
  {
   "cell_type": "code",
   "execution_count": 131,
   "metadata": {},
   "outputs": [
    {
     "data": {
      "text/plain": [
       "1"
      ]
     },
     "execution_count": 131,
     "metadata": {},
     "output_type": "execute_result"
    }
   ],
   "source": [
    "MyPrediction = svc.predict(X)\n",
    "MyPrediction[0]"
   ]
  },
  {
   "cell_type": "code",
   "execution_count": null,
   "metadata": {},
   "outputs": [],
   "source": []
  },
  {
   "cell_type": "code",
   "execution_count": null,
   "metadata": {},
   "outputs": [],
   "source": []
  }
 ],
 "metadata": {
  "kernelspec": {
   "display_name": "Python 3",
   "language": "python",
   "name": "python3"
  },
  "language_info": {
   "codemirror_mode": {
    "name": "ipython",
    "version": 3
   },
   "file_extension": ".py",
   "mimetype": "text/x-python",
   "name": "python",
   "nbconvert_exporter": "python",
   "pygments_lexer": "ipython3",
   "version": "3.8.5"
  }
 },
 "nbformat": 4,
 "nbformat_minor": 2
}
